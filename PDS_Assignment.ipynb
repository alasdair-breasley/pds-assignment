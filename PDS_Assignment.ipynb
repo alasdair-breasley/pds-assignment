{
 "cells": [
  {
   "cell_type": "markdown",
   "metadata": {},
   "source": [
    "## PDS Assignment"
   ]
  },
  {
   "cell_type": "code",
   "execution_count": 1,
   "metadata": {},
   "outputs": [],
   "source": [
    "# Import required packages\n",
    "import requests\n",
    "from bs4 import BeautifulSoup\n",
    "import pandas as pd\n",
    "import warnings\n",
    "\n",
    "# To supress all warnings for visual clarity. Due to warnings resulting from using verifty = False in requests.get().\n",
    "# For debugging comment out as this could hide crucial warnings. \n",
    "warnings.filterwarnings('ignore')\n",
    "\n",
    "# Link for website main page\n",
    "main_page_url = \"https://sitescrape.awh.durham.ac.uk/comp42315/\"\n",
    "\n",
    "# Start on main page because first page of publications url might change if new topic of research alphabetically \n",
    "# before \"Animation and Graphics\" is added in the future. More robust to start from main page and find the provided \n",
    "# publications link from there. \n",
    "page = requests.get(main_page_url, verify = False)\n",
    "\n",
    "soup = BeautifulSoup(page.content, \"html.parser\")"
   ]
  },
  {
   "cell_type": "code",
   "execution_count": 2,
   "metadata": {},
   "outputs": [
    {
     "data": {
      "text/plain": [
       "bs4.BeautifulSoup"
      ]
     },
     "execution_count": 2,
     "metadata": {},
     "output_type": "execute_result"
    }
   ],
   "source": [
    "type(soup)"
   ]
  },
  {
   "cell_type": "code",
   "execution_count": 3,
   "metadata": {},
   "outputs": [
    {
     "name": "stdout",
     "output_type": "stream",
     "text": [
      "<a href=\"publicationfull_type_animationandgraphics.htm\"><span>PUBLICATIONS</span><span>to innovate</span></a>\n",
      "<class 'str'>\n",
      "publicationfull_type_animationandgraphics.htm\n"
     ]
    }
   ],
   "source": [
    "# Finds all the <a> tags which contain \"publicationfull_type_\" in the href. This start of the relative file path is \n",
    "# the same for all topics in the various publication topic pages and the href for this tag will give the first topic \n",
    "# page alphabetically to start scraping from. \n",
    "publication_navigation_option = soup.find_all(name = \"a\", href = lambda href: href and \"publicationfull_type_\" in href)\n",
    "\n",
    "# Select the one element of the publication_navigation_option list\n",
    "publication_navigation_option = publication_navigation_option[0]\n",
    "\n",
    "print(publication_navigation_option)\n",
    "\n",
    "publication_navigation_relative_url = publication_navigation_option.get(\"href\")\n",
    "\n",
    "print(type(publication_navigation_relative_url))\n",
    "print(publication_navigation_relative_url)"
   ]
  },
  {
   "cell_type": "code",
   "execution_count": 4,
   "metadata": {},
   "outputs": [],
   "source": [
    "# Concatinate main page url (global) and publication partial url (relative) to get global url for publications page\n",
    "publication_navigation_full_url = main_page_url + publication_navigation_relative_url\n",
    "\n",
    "page = requests.get(publication_navigation_full_url, verify = False)\n",
    "\n",
    "soup = BeautifulSoup(page.content, \"html.parser\")"
   ]
  },
  {
   "cell_type": "code",
   "execution_count": 5,
   "metadata": {},
   "outputs": [
    {
     "name": "stdout",
     "output_type": "stream",
     "text": [
      "<a href=\"publicationfull_type_animationandgraphics.htm\"><span>PUBLICATIONS</span><span>to innovate</span></a>\n",
      "<a href=\"publicationfull_type_movementevaluation.htm\">Movement Evaluation</a>\n",
      "<a href=\"publicationfull_type_biomedicalengineering.htm\">Biomedical Engineering</a>\n",
      "<a href=\"publicationfull_type_interactionmodelling.htm\">Interaction Modelling</a>\n",
      "<a href=\"publicationfull_type_others.htm\">Others</a>\n",
      "<a href=\"publicationfull_type_actionrecognition.htm\">Action Recognition</a>\n",
      "<a href=\"publicationfull_type_depthand3destimation.htm\">Depth and 3D Estimation</a>\n",
      "<a href=\"publicationfull_type_virtualreality.htm\">Virtual Reality</a>\n",
      "<a href=\"publicationfull_type_facialfeatureanalysis.htm\">Facial Feature Analysis</a>\n",
      "<a href=\"publicationfull_type_3dsurfaces.htm\">3D Surfaces</a>\n",
      "<a href=\"publicationfull_type_crowdsimulation.htm\">Crowd Simulation</a>\n",
      "<a href=\"publicationfull_type_robotics.htm\">Robotics</a>\n",
      "<a href=\"publicationfull_type_handmodelling.htm\">Hand Modelling</a>\n",
      "<a href=\"publicationfull_type_computationalintelligence.htm\">Computational Intelligence</a>\n",
      "<a href=\"publicationfull_type_biometrics.htm\">Biometrics</a>\n",
      "<a href=\"publicationfull_type_environmentcapturing.htm\">Environment Capturing</a>\n",
      "<a href=\"publicationfull_type_motionanalysis.htm\">Motion Analysis</a>\n",
      "<a href=\"publicationfull_type_literaturereview.htm\">Literature Review</a>\n"
     ]
    }
   ],
   "source": [
    "# Find all links in the publications page which follow the topic page format \n",
    "publication_page_elements = soup.find_all(name = \"a\", href = lambda href: href and \"publicationfull_type_\" in href)\n",
    "\n",
    "publication_page_urls = []\n",
    "\n",
    "for element in publication_page_elements:\n",
    "    \n",
    "    publication_page_urls.append(element.get(\"href\"))\n",
    "    \n",
    "    print(element)\n"
   ]
  },
  {
   "cell_type": "code",
   "execution_count": 6,
   "metadata": {
    "scrolled": true
   },
   "outputs": [
    {
     "name": "stdout",
     "output_type": "stream",
     "text": [
      "                                     Publication Title  Year  \\\n",
      "0    A Video-Based Augmented Reality System for Hum...  2023   \n",
      "1    GAN-based Reactive Motion Synthesis with Class...  2022   \n",
      "2    Spatio-temporal Manifold Learning for Human Mo...  2021   \n",
      "3    A Quadruple Diffusion Convolutional Recurrent ...  2021   \n",
      "4    A Generic Framework for Editing and Synthesizi...  2019   \n",
      "..                                                 ...   ...   \n",
      "216  Triplet Loss with Channel Attention for Person...  2019   \n",
      "217  Less is More: Reducing Task and Model Complexi...  2023   \n",
      "218  Enhancing Perception and Immersion in Pre-Capt...  2023   \n",
      "219  Hierarchical Graph Convolutional Networks for ...  2023   \n",
      "220  On the Design Fundamentals of Diffusion Models...  2023   \n",
      "\n",
      "                                           Author List  \n",
      "0    Kanglei Zhou, Ruizhi Cai, Yue Ma, Qingqing Tan...  \n",
      "1    Qianhui Men, Hubert P. H. Shum, Edmond S. L. H...  \n",
      "2    He Wang, Edmond S. L. Ho, Hubert P. H. Shum an...  \n",
      "3    Qianhui Men, Edmond S. L. Ho, Hubert P. H. Shu...  \n",
      "4    Jacky C. P. Chan, Hubert P. H. Shum, He Wang, ...  \n",
      "..                                                 ...  \n",
      "216  Daniel Organisciak, Chirine Riachy, Nauman Asl...  \n",
      "217       Li Li, Hubert P. H. Shum and Toby P. Breckon  \n",
      "218    Qi Feng, Hubert P. H. Shum and Shigeo Morishima  \n",
      "219  Kanglei Zhou, Yue Ma, Hubert P. H. Shum and Xi...  \n",
      "220  Ziyi Chang, George Alex Koulieris and Hubert P...  \n",
      "\n",
      "[221 rows x 3 columns]\n"
     ]
    }
   ],
   "source": [
    "# Loop through all topic pages in publications and scrape \n",
    "\n",
    "publication_page_urls = publication_page_urls[:]\n",
    "\n",
    "publications_dataframe = pd.DataFrame(columns = [\"Publication Title\", \"Year\", \"Author List\"])\n",
    "\n",
    "for topic_relative_url in publication_page_urls:\n",
    "    \n",
    "    topic_global_url = main_page_url + topic_relative_url\n",
    "    \n",
    "    page = requests.get(topic_global_url, verify = False)\n",
    "    \n",
    "    soup = BeautifulSoup(page.content, \"html.parser\")\n",
    "    \n",
    "    publications = soup.find_all(name = \"div\", class_ = \"w3-cell-row\")\n",
    "    \n",
    "    publication_titles = []\n",
    "    \n",
    "    publication_years = []\n",
    "    \n",
    "    publication_authors = []\n",
    "    \n",
    "    for publication in publications:\n",
    "        \n",
    "        publication_title = publication.find_all(name = \"span\", class_ = \"PublicationTitle\")\n",
    "        \n",
    "        if (len(publication_title)) == 0:\n",
    "            \n",
    "            print(\"Error: Publication element has no title. Please investigate!\")\n",
    "            \n",
    "        elif (len(publication_title)) > 1:\n",
    "                \n",
    "            print(\"Error: Publication element has more than one title. Please investigate!\")\n",
    "                \n",
    "        else:\n",
    "                \n",
    "            publication_titles.append(publication_title[0].text)\n",
    "            \n",
    "        #######\n",
    "            \n",
    "        publication_TextSmalls = publication.find_all(name = \"span\", class_ = \"TextSmall\")\n",
    "        \n",
    "        if (len(publication_TextSmalls)) < 3:\n",
    "            \n",
    "            print(\"Error: Publication element has less tags of TextSmall class than anticipated. Please investigate!\")\n",
    "            \n",
    "        elif (len(publication_title)) > 3:\n",
    "                \n",
    "            print(\"Error: Publication element has more tags of TextSmall class than anticipated. Please investigate!\")\n",
    "                \n",
    "        else:\n",
    "            \n",
    "            # .rstrip() just in case there is a white space at end of text as opposed to year\n",
    "            publication_years.append(publication_TextSmalls[0].text.rstrip()[-4:])\n",
    "            \n",
    "            publication_authors.append(publication_TextSmalls[1].text)\n",
    "    \n",
    "    #print(publication_titles)\n",
    "    #print(publication_years)\n",
    "    #print(publication_authors)\n",
    "    \n",
    "    topic_i_dataframe = pd.DataFrame({\"Publication Title\" : publication_titles, \n",
    "                                      \"Year\" : publication_years, \n",
    "                                      \"Author List\" : publication_authors})\n",
    "    \n",
    "    publications_dataframe = pd.concat([publications_dataframe, topic_i_dataframe], ignore_index = True)\n",
    "    \n",
    "    \n",
    "print(publications_dataframe)\n",
    "    "
   ]
  },
  {
   "cell_type": "code",
   "execution_count": 7,
   "metadata": {},
   "outputs": [
    {
     "name": "stdout",
     "output_type": "stream",
     "text": [
      "                                     Publication Title  Year  \\\n",
      "0    A Video-Based Augmented Reality System for Hum...  2023   \n",
      "1    GAN-based Reactive Motion Synthesis with Class...  2022   \n",
      "2    Spatio-temporal Manifold Learning for Human Mo...  2021   \n",
      "3    A Quadruple Diffusion Convolutional Recurrent ...  2021   \n",
      "4    A Generic Framework for Editing and Synthesizi...  2019   \n",
      "..                                                 ...   ...   \n",
      "216  Triplet Loss with Channel Attention for Person...  2019   \n",
      "217  Less is More: Reducing Task and Model Complexi...  2023   \n",
      "218  Enhancing Perception and Immersion in Pre-Capt...  2023   \n",
      "219  Hierarchical Graph Convolutional Networks for ...  2023   \n",
      "220  On the Design Fundamentals of Diffusion Models...  2023   \n",
      "\n",
      "                                           Author List  Number of Authors  \n",
      "0    Kanglei Zhou, Ruizhi Cai, Yue Ma, Qingqing Tan...                 10  \n",
      "1    Qianhui Men, Hubert P. H. Shum, Edmond S. L. H...                  4  \n",
      "2    He Wang, Edmond S. L. Ho, Hubert P. H. Shum an...                  4  \n",
      "3    Qianhui Men, Edmond S. L. Ho, Hubert P. H. Shu...                  4  \n",
      "4    Jacky C. P. Chan, Hubert P. H. Shum, He Wang, ...                  6  \n",
      "..                                                 ...                ...  \n",
      "216  Daniel Organisciak, Chirine Riachy, Nauman Asl...                  4  \n",
      "217       Li Li, Hubert P. H. Shum and Toby P. Breckon                  3  \n",
      "218    Qi Feng, Hubert P. H. Shum and Shigeo Morishima                  3  \n",
      "219  Kanglei Zhou, Yue Ma, Hubert P. H. Shum and Xi...                  4  \n",
      "220  Ziyi Chang, George Alex Koulieris and Hubert P...                  3  \n",
      "\n",
      "[221 rows x 4 columns]\n",
      "                                     Publication Title  Year  \\\n",
      "0    A Video-Based Augmented Reality System for Hum...  2023   \n",
      "1    GAN-based Reactive Motion Synthesis with Class...  2022   \n",
      "2    Spatio-temporal Manifold Learning for Human Mo...  2021   \n",
      "3    A Quadruple Diffusion Convolutional Recurrent ...  2021   \n",
      "4    A Generic Framework for Editing and Synthesizi...  2019   \n",
      "..                                                 ...   ...   \n",
      "213  A Privacy-Preserving Efficient Location-Sharin...  2020   \n",
      "215  A Secure Authentication Protocol for Multi-ser...  2019   \n",
      "216  Triplet Loss with Channel Attention for Person...  2019   \n",
      "217  Less is More: Reducing Task and Model Complexi...  2023   \n",
      "219  Hierarchical Graph Convolutional Networks for ...  2023   \n",
      "\n",
      "                                           Author List  Number of Authors  \n",
      "0    Kanglei Zhou, Ruizhi Cai, Yue Ma, Qingqing Tan...                 10  \n",
      "1    Qianhui Men, Hubert P. H. Shum, Edmond S. L. H...                  4  \n",
      "2    He Wang, Edmond S. L. Ho, Hubert P. H. Shum an...                  4  \n",
      "3    Qianhui Men, Edmond S. L. Ho, Hubert P. H. Shu...                  4  \n",
      "4    Jacky C. P. Chan, Hubert P. H. Shum, He Wang, ...                  6  \n",
      "..                                                 ...                ...  \n",
      "213  Munmun Bhattacharya, Sandip Roy, Kamlesh Mistr...                  5  \n",
      "215  Subhas Barman, Hubert P. H. Shum, Samiran Chat...                  4  \n",
      "216  Daniel Organisciak, Chirine Riachy, Nauman Asl...                  4  \n",
      "217       Li Li, Hubert P. H. Shum and Toby P. Breckon                  3  \n",
      "219  Kanglei Zhou, Yue Ma, Hubert P. H. Shum and Xi...                  4  \n",
      "\n",
      "[160 rows x 4 columns]\n"
     ]
    }
   ],
   "source": [
    "# Create a column with the number of authors\n",
    "publications_dataframe[\"Number of Authors\"] = publications_dataframe[\"Author List\"].str.replace(\" and \", \", \").str.split(\", \").apply(len)\n",
    "\n",
    "print(publications_dataframe)\n",
    "\n",
    "# Remove rows with duplicate publication titles\n",
    "unique_publications_dataframe = publications_dataframe.drop_duplicates(subset = \"Publication Title\")\n",
    "\n",
    "print(unique_publications_dataframe)"
   ]
  }
 ],
 "metadata": {
  "kernelspec": {
   "display_name": "Python 3",
   "language": "python",
   "name": "python3"
  },
  "language_info": {
   "codemirror_mode": {
    "name": "ipython",
    "version": 3
   },
   "file_extension": ".py",
   "mimetype": "text/x-python",
   "name": "python",
   "nbconvert_exporter": "python",
   "pygments_lexer": "ipython3",
   "version": "3.8.10"
  }
 },
 "nbformat": 4,
 "nbformat_minor": 4
}
