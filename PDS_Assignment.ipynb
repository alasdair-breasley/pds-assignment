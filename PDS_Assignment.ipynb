{
 "cells": [
  {
   "cell_type": "markdown",
   "metadata": {},
   "source": [
    "## PDS Assignment"
   ]
  },
  {
   "cell_type": "code",
   "execution_count": 1,
   "metadata": {},
   "outputs": [
    {
     "name": "stderr",
     "output_type": "stream",
     "text": [
      "/apps/jupyterhub/COMP42315/lib/python3.8/site-packages/urllib3/connectionpool.py:979: InsecureRequestWarning: Unverified HTTPS request is being made to host 'sitescrape.awh.durham.ac.uk'. Adding certificate verification is strongly advised. See: https://urllib3.readthedocs.io/en/latest/advanced-usage.html#ssl-warnings\n",
      "  warnings.warn(\n"
     ]
    }
   ],
   "source": [
    "import requests\n",
    "from bs4 import BeautifulSoup\n",
    "\n",
    "# Start on main page because first page of publications url might change if new topic of research alphabetically \n",
    "# before \"Animation and Graphics\" is added in the future. More robust to start from main page and find the provided \n",
    "# publications link from there. \n",
    "page = requests.get(\"https://sitescrape.awh.durham.ac.uk/comp42315/\", verify = False)\n",
    "\n",
    "soup = BeautifulSoup(page.content, \"html.parser\")"
   ]
  },
  {
   "cell_type": "code",
   "execution_count": 2,
   "metadata": {},
   "outputs": [
    {
     "data": {
      "text/plain": [
       "bs4.BeautifulSoup"
      ]
     },
     "execution_count": 2,
     "metadata": {},
     "output_type": "execute_result"
    }
   ],
   "source": [
    "type(soup)"
   ]
  },
  {
   "cell_type": "code",
   "execution_count": 3,
   "metadata": {},
   "outputs": [
    {
     "name": "stdout",
     "output_type": "stream",
     "text": [
      "<a href=\"publicationfull_type_animationandgraphics.htm\"><span>PUBLICATIONS</span><span>to innovate</span></a>\n",
      "<class 'str'>\n",
      "publicationfull_type_animationandgraphics.htm\n"
     ]
    }
   ],
   "source": [
    "# Finds all the <a> tags which contain \"publicationfull_type_\" in the href. This start of the relative file path is \n",
    "# the same for all topics in the various publication topic pages and the href for this tag will give the first topic \n",
    "# page alphabetically to start scraping from. \n",
    "publication_navigation_option = soup.find_all(name = \"a\", href = lambda href: href and \"publicationfull_type_\" in href)\n",
    "\n",
    "# Select the one element of the publication_navigation_option list\n",
    "publication_navigation_option = publication_navigation_option[0]\n",
    "\n",
    "print(publication_navigation_option)\n",
    "\n",
    "publication_navigation_partial_link = publication_navigation_option.get(\"href\")\n",
    "\n",
    "print(type(publication_navigation_partial_link))\n",
    "print(publication_navigation_partial_link)"
   ]
  }
 ],
 "metadata": {
  "kernelspec": {
   "display_name": "Python 3",
   "language": "python",
   "name": "python3"
  },
  "language_info": {
   "codemirror_mode": {
    "name": "ipython",
    "version": 3
   },
   "file_extension": ".py",
   "mimetype": "text/x-python",
   "name": "python",
   "nbconvert_exporter": "python",
   "pygments_lexer": "ipython3",
   "version": "3.8.11"
  }
 },
 "nbformat": 4,
 "nbformat_minor": 4
}
